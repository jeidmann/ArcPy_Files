{
 "cells": [
  {
   "cell_type": "code",
   "execution_count": null,
   "metadata": {},
   "outputs": [],
   "source": [
    "import arcpy\n",
    "import os\n",
    "arcpy.env.workspace = r'C:\\Users\\jeidmann\\Documents\\2-PhD\\NRWD-Fires\\FireMap\\FireMap.gdb'"
   ]
  },
  {
   "cell_type": "code",
   "execution_count": 59,
   "metadata": {},
   "outputs": [
    {
     "data": {
      "text/plain": [
       "['al3317108611720161113_20161110_20161126_burn_bndy.shp',\n",
       " 'al3326608609720161012_20131118_20161126_burn_bndy.shp',\n",
       " 'al3337208592120161029_20161025_20161110_burn_bndy.shp',\n",
       " 'al3339608584320160320_20160416_burn_bndy.shp']"
      ]
     },
     "execution_count": 59,
     "metadata": {},
     "output_type": "execute_result"
    }
   ],
   "source": [
    "base_path = r\"C:\\Users\\jeidmann\\Documents\\2-PhD\\NRWD-Fires\\FireMap\\mtbs_prescribed\\1984\"\n",
    "outputLoc = r\"C:\\Users\\jeidmann\\Documents\\2-PhD\\NRWD-Fires\\FireMap\\FireMap.gdb\\Prescribed1984\" #Note: ouput location should be outside the \"testing\" folder or additional runs will include any previously generated output\n",
    "FCList = []\n",
    "directory=os.listdir(base_path)\n",
    "matching = [s for s in directory if \"burn_bndy.shp\" in s]\n",
    "matching"
   ]
  },
  {
   "cell_type": "code",
   "execution_count": 60,
   "metadata": {},
   "outputs": [],
   "source": [
    "for snip in matching:\n",
    "    temp_path=base_path+'\\\\'+snip\n",
    "    FCList.append(temp_path)"
   ]
  },
  {
   "cell_type": "code",
   "execution_count": 61,
   "metadata": {},
   "outputs": [
    {
     "data": {
      "text/plain": [
       "['C:\\\\Users\\\\jeidmann\\\\Documents\\\\2-PhD\\\\NRWD-Fires\\\\FireMap\\\\mtbs\\\\test\\\\al3317108611720161113_20161110_20161126_burn_bndy.shp',\n",
       " 'C:\\\\Users\\\\jeidmann\\\\Documents\\\\2-PhD\\\\NRWD-Fires\\\\FireMap\\\\mtbs\\\\test\\\\al3326608609720161012_20131118_20161126_burn_bndy.shp',\n",
       " 'C:\\\\Users\\\\jeidmann\\\\Documents\\\\2-PhD\\\\NRWD-Fires\\\\FireMap\\\\mtbs\\\\test\\\\al3337208592120161029_20161025_20161110_burn_bndy.shp',\n",
       " 'C:\\\\Users\\\\jeidmann\\\\Documents\\\\2-PhD\\\\NRWD-Fires\\\\FireMap\\\\mtbs\\\\test\\\\al3339608584320160320_20160416_burn_bndy.shp']"
      ]
     },
     "execution_count": 61,
     "metadata": {},
     "output_type": "execute_result"
    }
   ],
   "source": [
    "FCList"
   ]
  },
  {
   "cell_type": "code",
   "execution_count": null,
   "metadata": {},
   "outputs": [],
   "source": [
    "arcpy.Merge_management(FCList,outputLoc,\"\",\"ADD_SOURCE_INFO\")"
   ]
  },
  {
   "cell_type": "code",
   "execution_count": null,
   "metadata": {},
   "outputs": [],
   "source": [
    "base_path = r\"C:\\Users\\jeidmann\\Documents\\2-PhD\\NRWD-Fires\\FireMap\\mtbs_prescribed\\2018\"\n",
    "outputLoc = r\"C:\\Users\\jeidmann\\Documents\\2-PhD\\NRWD-Fires\\FireMap\\FireMap.gdb\\Prescribed2018\" #Note: ouput location should be outside the \"testing\" folder or additional runs will include any previously generated output\n",
    "FCList = []\n",
    "directory=os.listdir(base_path)\n",
    "matching = [s for s in directory if \"burn_bndy.shp\" in s]\n",
    "for snip in matching:\n",
    "    temp_path=base_path+'\\\\'+snip\n",
    "    FCList.append(temp_path)\n",
    "arcpy.Merge_management(FCList,outputLoc,\"\",\"ADD_SOURCE_INFO\")"
   ]
  }
 ],
 "metadata": {
  "kernelspec": {
   "display_name": "Python 3",
   "language": "python",
   "name": "python3"
  },
  "language_info": {
   "codemirror_mode": {
    "name": "ipython",
    "version": 3
   },
   "file_extension": ".py",
   "mimetype": "text/x-python",
   "name": "python",
   "nbconvert_exporter": "python",
   "pygments_lexer": "ipython3",
   "version": "3.6.9"
  }
 },
 "nbformat": 4,
 "nbformat_minor": 2
}
